{
 "cells": [
  {
   "cell_type": "code",
   "execution_count": 41,
   "metadata": {},
   "outputs": [],
   "source": [
    "import pandas as pd\n",
    "from sklearn import preprocessing"
   ]
  },
  {
   "cell_type": "code",
   "execution_count": 33,
   "metadata": {},
   "outputs": [],
   "source": [
    "df=pd.read_csv('cases.csv') "
   ]
  },
  {
   "cell_type": "code",
   "execution_count": 26,
   "metadata": {},
   "outputs": [],
   "source": [
    "col_name = df.columns.tolist()\n",
    "col_name.insert(col_name.index('Panel')+1,'Panel_int')"
   ]
  },
  {
   "cell_type": "code",
   "execution_count": 35,
   "metadata": {},
   "outputs": [
    {
     "data": {
      "text/plain": [
       "0"
      ]
     },
     "execution_count": 35,
     "metadata": {},
     "output_type": "execute_result"
    }
   ],
   "source": [
    "df = df.dropna(subset=['Panel'])\n",
    "df['Panel'].isnull().sum()"
   ]
  },
  {
   "cell_type": "code",
   "execution_count": 37,
   "metadata": {},
   "outputs": [],
   "source": [
    "label_encoder = preprocessing.LabelEncoder()\n",
    "df['Panel_int'] = label_encoder.fit_transform(df['Panel']) "
   ]
  },
  {
   "cell_type": "code",
   "execution_count": 40,
   "metadata": {},
   "outputs": [
    {
     "data": {
      "text/plain": [
       "0       624\n",
       "1       728\n",
       "2       732\n",
       "3       611\n",
       "4        51\n",
       "5       342\n",
       "6       758\n",
       "7       342\n",
       "8       642\n",
       "9       607\n",
       "10      739\n",
       "11      342\n",
       "12      479\n",
       "13       51\n",
       "14      239\n",
       "15      739\n",
       "16      642\n",
       "17      761\n",
       "18      744\n",
       "19      594\n",
       "20      613\n",
       "21       53\n",
       "22      744\n",
       "23      697\n",
       "24      642\n",
       "25      355\n",
       "26      625\n",
       "27      739\n",
       "28      355\n",
       "29       53\n",
       "       ... \n",
       "6195    681\n",
       "6196    619\n",
       "6197    382\n",
       "6198    775\n",
       "6199    902\n",
       "6200    666\n",
       "6201    671\n",
       "6202    681\n",
       "6203    823\n",
       "6204    586\n",
       "6205    664\n",
       "6206    681\n",
       "6207      1\n",
       "6208      5\n",
       "6209    881\n",
       "6210    671\n",
       "6211    671\n",
       "6212    394\n",
       "6213      1\n",
       "6214    586\n",
       "6215      1\n",
       "6216    681\n",
       "6217    671\n",
       "6218    823\n",
       "6219    902\n",
       "6220    681\n",
       "6221    785\n",
       "6222    782\n",
       "6223    904\n",
       "6224    382\n",
       "Name: Panel_int, Length: 6193, dtype: int64"
      ]
     },
     "execution_count": 40,
     "metadata": {},
     "output_type": "execute_result"
    }
   ],
   "source": [
    "df['Panel_int']"
   ]
  }
 ],
 "metadata": {
  "kernelspec": {
   "display_name": "Python 3",
   "language": "python",
   "name": "python3"
  },
  "language_info": {
   "codemirror_mode": {
    "name": "ipython",
    "version": 3
   },
   "file_extension": ".py",
   "mimetype": "text/x-python",
   "name": "python",
   "nbconvert_exporter": "python",
   "pygments_lexer": "ipython3",
   "version": "3.7.1"
  }
 },
 "nbformat": 4,
 "nbformat_minor": 2
}
