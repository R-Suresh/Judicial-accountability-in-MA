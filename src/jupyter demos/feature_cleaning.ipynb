{
 "cells": [
  {
   "cell_type": "code",
   "execution_count": 1,
   "metadata": {},
   "outputs": [],
   "source": [
    "import pandas as pd\n",
    "\n",
    "def get_series(df,original_column,target_column):\n",
    "    df[target_column],court_uniques = pd.factorize(df[original_column])\n",
    "    court_type_mapping={}\n",
    "    for index,value in enumerate(court_uniques.values):\n",
    "        court_type_mapping[index]=value\n",
    "    court_type_mapping\n",
    "    return df, court_type_mapping\n",
    "\n",
    "def get_court_name_type(df):\n",
    "    df,court_type_mapping=get_series(df,'Court Type','Court Type values')\n",
    "    df,lower_court_mapping=get_series(df,'Lower Court','Lower Court values')\n",
    "    df,judge_mapping=get_series(df,'Lower Ct Judge','Lower Court Judge values')\n",
    "    return df, court_type_mapping,lower_court_mapping,judge_mapping "
   ]
  },
  {
   "cell_type": "code",
   "execution_count": 2,
   "metadata": {},
   "outputs": [
    {
     "name": "stderr",
     "output_type": "stream",
     "text": [
      "c:\\users\\sures\\anaconda3\\envs\\ctds_midterm\\lib\\site-packages\\IPython\\core\\interactiveshell.py:3058: DtypeWarning: Columns (5,10,23,42,52,53,54,91,98,107,108,110,115,118,139,142,144) have mixed types. Specify dtype option on import or set low_memory=False.\n",
      "  interactivity=interactivity, compiler=compiler, result=result)\n"
     ]
    }
   ],
   "source": [
    "df=pd.read_csv('../../data/cases.csv')"
   ]
  },
  {
   "cell_type": "code",
   "execution_count": 3,
   "metadata": {},
   "outputs": [],
   "source": [
    "df, court_type_mapping,lower_court_mapping,judge_mapping =get_court_name_type(df)"
   ]
  },
  {
   "cell_type": "code",
   "execution_count": null,
   "metadata": {},
   "outputs": [],
   "source": []
  }
 ],
 "metadata": {
  "kernelspec": {
   "display_name": "Python 3",
   "language": "python",
   "name": "python3"
  },
  "language_info": {
   "codemirror_mode": {
    "name": "ipython",
    "version": 3
   },
   "file_extension": ".py",
   "mimetype": "text/x-python",
   "name": "python",
   "nbconvert_exporter": "python",
   "pygments_lexer": "ipython3",
   "version": "3.6.9"
  }
 },
 "nbformat": 4,
 "nbformat_minor": 2
}
